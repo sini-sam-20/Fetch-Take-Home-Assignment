{
  "metadata": {
    "kernelspec": {
      "name": "python",
      "display_name": "Python (Pyodide)",
      "language": "python"
    },
    "language_info": {
      "codemirror_mode": {
        "name": "python",
        "version": 3
      },
      "file_extension": ".py",
      "mimetype": "text/x-python",
      "name": "python",
      "nbconvert_exporter": "python",
      "pygments_lexer": "ipython3",
      "version": "3.8"
    },
    "colab": {
      "provenance": [],
      "include_colab_link": true
    }
  },
  "nbformat_minor": 5,
  "nbformat": 4,
  "cells": [
    {
      "cell_type": "markdown",
      "metadata": {
        "id": "view-in-github",
        "colab_type": "text"
      },
      "source": [
        "<a href=\"https://colab.research.google.com/github/sini-sam-20/Fetch-Take-Home-Assignment/blob/main/HubSpot_Integrations.ipynb\" target=\"_parent\"><img src=\"https://colab.research.google.com/assets/colab-badge.svg\" alt=\"Open In Colab\"/></a>"
      ]
    },
    {
      "id": "03e95789-27ba-4627-b3bd-79e66af0f06b",
      "cell_type": "markdown",
      "source": [
        "# Import Packages"
      ],
      "metadata": {
        "id": "03e95789-27ba-4627-b3bd-79e66af0f06b"
      }
    },
    {
      "id": "80f3d927-8c93-4ceb-9942-c69ef9b8e74d",
      "cell_type": "code",
      "source": [
        "import pandas as pd\n",
        "import os\n",
        "import matplotlib.pyplot as plt\n",
        "import seaborn as sns\n",
        "from matplotlib_venn import venn2\n",
        "import numpy as np\n",
        "\n",
        "pd.set_option('display.width', 1000)"
      ],
      "metadata": {
        "trusted": true,
        "id": "80f3d927-8c93-4ceb-9942-c69ef9b8e74d"
      },
      "outputs": [],
      "execution_count": 1
    },
    {
      "id": "128dead3-254d-444d-8e3e-a6d5d477c9f5",
      "cell_type": "markdown",
      "source": [
        "# Load Datasets"
      ],
      "metadata": {
        "id": "128dead3-254d-444d-8e3e-a6d5d477c9f5"
      }
    },
    {
      "id": "30889625-af68-404e-afe4-4968f705ea84",
      "cell_type": "code",
      "source": [
        "print(\"Current Working Directory:\", os.getcwd())"
      ],
      "metadata": {
        "trusted": true,
        "colab": {
          "base_uri": "https://localhost:8080/"
        },
        "id": "30889625-af68-404e-afe4-4968f705ea84",
        "outputId": "9bb6b3c6-d3e5-48ac-d241-1d776bc72a02"
      },
      "outputs": [
        {
          "output_type": "stream",
          "name": "stdout",
          "text": [
            "Current Working Directory: /content\n"
          ]
        }
      ],
      "execution_count": 2
    },
    {
      "id": "8908e4e8-079e-4314-a46b-62a19ec0eb42",
      "cell_type": "code",
      "source": [
        "customer_metadata = pd.read_csv('customer_metadata.csv')\n",
        "customer_integrations = pd.read_csv('customer_integrations.csv')"
      ],
      "metadata": {
        "trusted": true,
        "colab": {
          "base_uri": "https://localhost:8080/",
          "height": 329
        },
        "id": "8908e4e8-079e-4314-a46b-62a19ec0eb42",
        "outputId": "ee059aea-756d-4e8c-a236-6a1bac06a523"
      },
      "outputs": [
        {
          "output_type": "error",
          "ename": "FileNotFoundError",
          "evalue": "[Errno 2] No such file or directory: 'customer_metadata.csv'",
          "traceback": [
            "\u001b[0;31m---------------------------------------------------------------------------\u001b[0m",
            "\u001b[0;31mFileNotFoundError\u001b[0m                         Traceback (most recent call last)",
            "\u001b[0;32m<ipython-input-4-e9431f71949f>\u001b[0m in \u001b[0;36m<cell line: 0>\u001b[0;34m()\u001b[0m\n\u001b[0;32m----> 1\u001b[0;31m \u001b[0mcustomer_metadata\u001b[0m \u001b[0;34m=\u001b[0m \u001b[0mpd\u001b[0m\u001b[0;34m.\u001b[0m\u001b[0mread_csv\u001b[0m\u001b[0;34m(\u001b[0m\u001b[0;34m'customer_metadata.csv'\u001b[0m\u001b[0;34m)\u001b[0m\u001b[0;34m\u001b[0m\u001b[0;34m\u001b[0m\u001b[0m\n\u001b[0m\u001b[1;32m      2\u001b[0m \u001b[0mcustomer_integrations\u001b[0m \u001b[0;34m=\u001b[0m \u001b[0mpd\u001b[0m\u001b[0;34m.\u001b[0m\u001b[0mread_csv\u001b[0m\u001b[0;34m(\u001b[0m\u001b[0;34m'customer_integrations.csv'\u001b[0m\u001b[0;34m)\u001b[0m\u001b[0;34m\u001b[0m\u001b[0;34m\u001b[0m\u001b[0m\n",
            "\u001b[0;32m/usr/local/lib/python3.11/dist-packages/pandas/io/parsers/readers.py\u001b[0m in \u001b[0;36mread_csv\u001b[0;34m(filepath_or_buffer, sep, delimiter, header, names, index_col, usecols, dtype, engine, converters, true_values, false_values, skipinitialspace, skiprows, skipfooter, nrows, na_values, keep_default_na, na_filter, verbose, skip_blank_lines, parse_dates, infer_datetime_format, keep_date_col, date_parser, date_format, dayfirst, cache_dates, iterator, chunksize, compression, thousands, decimal, lineterminator, quotechar, quoting, doublequote, escapechar, comment, encoding, encoding_errors, dialect, on_bad_lines, delim_whitespace, low_memory, memory_map, float_precision, storage_options, dtype_backend)\u001b[0m\n\u001b[1;32m   1024\u001b[0m     \u001b[0mkwds\u001b[0m\u001b[0;34m.\u001b[0m\u001b[0mupdate\u001b[0m\u001b[0;34m(\u001b[0m\u001b[0mkwds_defaults\u001b[0m\u001b[0;34m)\u001b[0m\u001b[0;34m\u001b[0m\u001b[0;34m\u001b[0m\u001b[0m\n\u001b[1;32m   1025\u001b[0m \u001b[0;34m\u001b[0m\u001b[0m\n\u001b[0;32m-> 1026\u001b[0;31m     \u001b[0;32mreturn\u001b[0m \u001b[0m_read\u001b[0m\u001b[0;34m(\u001b[0m\u001b[0mfilepath_or_buffer\u001b[0m\u001b[0;34m,\u001b[0m \u001b[0mkwds\u001b[0m\u001b[0;34m)\u001b[0m\u001b[0;34m\u001b[0m\u001b[0;34m\u001b[0m\u001b[0m\n\u001b[0m\u001b[1;32m   1027\u001b[0m \u001b[0;34m\u001b[0m\u001b[0m\n\u001b[1;32m   1028\u001b[0m \u001b[0;34m\u001b[0m\u001b[0m\n",
            "\u001b[0;32m/usr/local/lib/python3.11/dist-packages/pandas/io/parsers/readers.py\u001b[0m in \u001b[0;36m_read\u001b[0;34m(filepath_or_buffer, kwds)\u001b[0m\n\u001b[1;32m    618\u001b[0m \u001b[0;34m\u001b[0m\u001b[0m\n\u001b[1;32m    619\u001b[0m     \u001b[0;31m# Create the parser.\u001b[0m\u001b[0;34m\u001b[0m\u001b[0;34m\u001b[0m\u001b[0m\n\u001b[0;32m--> 620\u001b[0;31m     \u001b[0mparser\u001b[0m \u001b[0;34m=\u001b[0m \u001b[0mTextFileReader\u001b[0m\u001b[0;34m(\u001b[0m\u001b[0mfilepath_or_buffer\u001b[0m\u001b[0;34m,\u001b[0m \u001b[0;34m**\u001b[0m\u001b[0mkwds\u001b[0m\u001b[0;34m)\u001b[0m\u001b[0;34m\u001b[0m\u001b[0;34m\u001b[0m\u001b[0m\n\u001b[0m\u001b[1;32m    621\u001b[0m \u001b[0;34m\u001b[0m\u001b[0m\n\u001b[1;32m    622\u001b[0m     \u001b[0;32mif\u001b[0m \u001b[0mchunksize\u001b[0m \u001b[0;32mor\u001b[0m \u001b[0miterator\u001b[0m\u001b[0;34m:\u001b[0m\u001b[0;34m\u001b[0m\u001b[0;34m\u001b[0m\u001b[0m\n",
            "\u001b[0;32m/usr/local/lib/python3.11/dist-packages/pandas/io/parsers/readers.py\u001b[0m in \u001b[0;36m__init__\u001b[0;34m(self, f, engine, **kwds)\u001b[0m\n\u001b[1;32m   1618\u001b[0m \u001b[0;34m\u001b[0m\u001b[0m\n\u001b[1;32m   1619\u001b[0m         \u001b[0mself\u001b[0m\u001b[0;34m.\u001b[0m\u001b[0mhandles\u001b[0m\u001b[0;34m:\u001b[0m \u001b[0mIOHandles\u001b[0m \u001b[0;34m|\u001b[0m \u001b[0;32mNone\u001b[0m \u001b[0;34m=\u001b[0m \u001b[0;32mNone\u001b[0m\u001b[0;34m\u001b[0m\u001b[0;34m\u001b[0m\u001b[0m\n\u001b[0;32m-> 1620\u001b[0;31m         \u001b[0mself\u001b[0m\u001b[0;34m.\u001b[0m\u001b[0m_engine\u001b[0m \u001b[0;34m=\u001b[0m \u001b[0mself\u001b[0m\u001b[0;34m.\u001b[0m\u001b[0m_make_engine\u001b[0m\u001b[0;34m(\u001b[0m\u001b[0mf\u001b[0m\u001b[0;34m,\u001b[0m \u001b[0mself\u001b[0m\u001b[0;34m.\u001b[0m\u001b[0mengine\u001b[0m\u001b[0;34m)\u001b[0m\u001b[0;34m\u001b[0m\u001b[0;34m\u001b[0m\u001b[0m\n\u001b[0m\u001b[1;32m   1621\u001b[0m \u001b[0;34m\u001b[0m\u001b[0m\n\u001b[1;32m   1622\u001b[0m     \u001b[0;32mdef\u001b[0m \u001b[0mclose\u001b[0m\u001b[0;34m(\u001b[0m\u001b[0mself\u001b[0m\u001b[0;34m)\u001b[0m \u001b[0;34m->\u001b[0m \u001b[0;32mNone\u001b[0m\u001b[0;34m:\u001b[0m\u001b[0;34m\u001b[0m\u001b[0;34m\u001b[0m\u001b[0m\n",
            "\u001b[0;32m/usr/local/lib/python3.11/dist-packages/pandas/io/parsers/readers.py\u001b[0m in \u001b[0;36m_make_engine\u001b[0;34m(self, f, engine)\u001b[0m\n\u001b[1;32m   1878\u001b[0m                 \u001b[0;32mif\u001b[0m \u001b[0;34m\"b\"\u001b[0m \u001b[0;32mnot\u001b[0m \u001b[0;32min\u001b[0m \u001b[0mmode\u001b[0m\u001b[0;34m:\u001b[0m\u001b[0;34m\u001b[0m\u001b[0;34m\u001b[0m\u001b[0m\n\u001b[1;32m   1879\u001b[0m                     \u001b[0mmode\u001b[0m \u001b[0;34m+=\u001b[0m \u001b[0;34m\"b\"\u001b[0m\u001b[0;34m\u001b[0m\u001b[0;34m\u001b[0m\u001b[0m\n\u001b[0;32m-> 1880\u001b[0;31m             self.handles = get_handle(\n\u001b[0m\u001b[1;32m   1881\u001b[0m                 \u001b[0mf\u001b[0m\u001b[0;34m,\u001b[0m\u001b[0;34m\u001b[0m\u001b[0;34m\u001b[0m\u001b[0m\n\u001b[1;32m   1882\u001b[0m                 \u001b[0mmode\u001b[0m\u001b[0;34m,\u001b[0m\u001b[0;34m\u001b[0m\u001b[0;34m\u001b[0m\u001b[0m\n",
            "\u001b[0;32m/usr/local/lib/python3.11/dist-packages/pandas/io/common.py\u001b[0m in \u001b[0;36mget_handle\u001b[0;34m(path_or_buf, mode, encoding, compression, memory_map, is_text, errors, storage_options)\u001b[0m\n\u001b[1;32m    871\u001b[0m         \u001b[0;32mif\u001b[0m \u001b[0mioargs\u001b[0m\u001b[0;34m.\u001b[0m\u001b[0mencoding\u001b[0m \u001b[0;32mand\u001b[0m \u001b[0;34m\"b\"\u001b[0m \u001b[0;32mnot\u001b[0m \u001b[0;32min\u001b[0m \u001b[0mioargs\u001b[0m\u001b[0;34m.\u001b[0m\u001b[0mmode\u001b[0m\u001b[0;34m:\u001b[0m\u001b[0;34m\u001b[0m\u001b[0;34m\u001b[0m\u001b[0m\n\u001b[1;32m    872\u001b[0m             \u001b[0;31m# Encoding\u001b[0m\u001b[0;34m\u001b[0m\u001b[0;34m\u001b[0m\u001b[0m\n\u001b[0;32m--> 873\u001b[0;31m             handle = open(\n\u001b[0m\u001b[1;32m    874\u001b[0m                 \u001b[0mhandle\u001b[0m\u001b[0;34m,\u001b[0m\u001b[0;34m\u001b[0m\u001b[0;34m\u001b[0m\u001b[0m\n\u001b[1;32m    875\u001b[0m                 \u001b[0mioargs\u001b[0m\u001b[0;34m.\u001b[0m\u001b[0mmode\u001b[0m\u001b[0;34m,\u001b[0m\u001b[0;34m\u001b[0m\u001b[0;34m\u001b[0m\u001b[0m\n",
            "\u001b[0;31mFileNotFoundError\u001b[0m: [Errno 2] No such file or directory: 'customer_metadata.csv'"
          ]
        }
      ],
      "execution_count": 4
    },
    {
      "id": "eebccada-b593-4482-919c-52bcd4284606",
      "cell_type": "code",
      "source": [
        "# Display the first few rows of each dataset and their shape\n",
        "print(\"Customer Metadata:\")\n",
        "print(customer_metadata.head())\n",
        "print(customer_metadata.shape)\n",
        "\n",
        "print(\"\\nCustomer Integrations:\")\n",
        "print(customer_integrations.head())\n",
        "print(customer_integrations.shape)"
      ],
      "metadata": {
        "trusted": true,
        "id": "eebccada-b593-4482-919c-52bcd4284606"
      },
      "outputs": [],
      "execution_count": null
    },
    {
      "id": "c0d48487-9de8-4314-b34f-d4b17ad6cd9a",
      "cell_type": "markdown",
      "source": [
        "# Data Processing"
      ],
      "metadata": {
        "id": "c0d48487-9de8-4314-b34f-d4b17ad6cd9a"
      }
    },
    {
      "id": "75794b21-6105-4125-b564-e0e246ab816e",
      "cell_type": "markdown",
      "source": [
        "## Dataset Exploration"
      ],
      "metadata": {
        "id": "75794b21-6105-4125-b564-e0e246ab816e"
      }
    },
    {
      "id": "7222507e-7652-4c12-87b4-602c01db73d0",
      "cell_type": "markdown",
      "source": [
        "Basic info about the datasets including non-null count and the datatypes"
      ],
      "metadata": {
        "id": "7222507e-7652-4c12-87b4-602c01db73d0"
      }
    },
    {
      "id": "09e44e0f-9e23-4ed1-9b48-fbe41c593192",
      "cell_type": "code",
      "source": [
        "print(\"Customer Metadata Info:\")\n",
        "print(customer_metadata.info())\n",
        "\n",
        "print(\"\\nCustomer Integrations Info:\")\n",
        "print(customer_integrations.info())"
      ],
      "metadata": {
        "trusted": true,
        "id": "09e44e0f-9e23-4ed1-9b48-fbe41c593192"
      },
      "outputs": [],
      "execution_count": null
    },
    {
      "id": "538be4e8-b28c-45e2-b8a3-aba70cebe465",
      "cell_type": "markdown",
      "source": [
        "\n",
        "Checking for missing values"
      ],
      "metadata": {
        "id": "538be4e8-b28c-45e2-b8a3-aba70cebe465"
      }
    },
    {
      "id": "197c2067-b38a-4eb9-8809-9e30aa2bc1d0",
      "cell_type": "code",
      "source": [
        "print(\"\\nMissing Values in Customer Metadata:\")\n",
        "print(customer_metadata.isnull().sum())\n",
        "\n",
        "print(\"\\nMissing Values in Customer Integrations:\")\n",
        "print(customer_integrations.isnull().sum())"
      ],
      "metadata": {
        "trusted": true,
        "id": "197c2067-b38a-4eb9-8809-9e30aa2bc1d0"
      },
      "outputs": [],
      "execution_count": null
    },
    {
      "id": "3c884e1f-c739-433c-b189-5ddfa673107e",
      "cell_type": "markdown",
      "source": [
        "Merging the datasets, keeping all rows from the customer_metadata and matching records from customer_integrations"
      ],
      "metadata": {
        "id": "3c884e1f-c739-433c-b189-5ddfa673107e"
      }
    },
    {
      "id": "270e742b-b612-4bc4-a2a3-7d7d18e2a44e",
      "cell_type": "code",
      "source": [
        "metadata_integration_data = pd.merge(\n",
        "    customer_metadata,\n",
        "    customer_integrations,\n",
        "    on=['CUSTOMER_ID', 'SNAPSHOT_MONTH'],\n",
        "    how='left' )\n",
        "\n",
        "\n",
        "print(\"\\nMerged Data:\")\n",
        "print(metadata_integration_data.head())\n",
        "print(metadata_integration_data.shape)"
      ],
      "metadata": {
        "trusted": true,
        "colab": {
          "base_uri": "https://localhost:8080/"
        },
        "id": "270e742b-b612-4bc4-a2a3-7d7d18e2a44e",
        "outputId": "c57da437-6ef9-44a4-da81-a917f50da46e"
      },
      "outputs": [
        {
          "output_type": "stream",
          "name": "stdout",
          "text": [
            "\n",
            "Merged Data:\n",
            "  CUSTOMER_ID SNAPSHOT_MONTH MARKETING_HUB_TIER  MARKETING_HUB_MRR  MARKETING_HUB_MRR_CANCELED SALES_HUB_TIER  SALES_HUB_MRR  SALES_HUB_MRR_CANCELED     INTEGRATION\n",
            "0   C00020862        2024-01                Ent             840.22                         NaN     Enterprise         -17.55                     NaN  GoogleCalendar\n",
            "1   C00020862        2024-01                Ent             840.22                         NaN     Enterprise         -17.55                     NaN     FacebookAds\n",
            "2   C00020862        2024-01                Ent             840.22                         NaN     Enterprise         -17.55                     NaN       GoogleAds\n",
            "3   C00020862        2024-01                Ent             840.22                         NaN     Enterprise         -17.55                     NaN        Calendly\n",
            "4   C00020862        2024-01                Ent             840.22                         NaN     Enterprise         -17.55                     NaN        Typeform\n",
            "(846900, 9)\n"
          ]
        }
      ],
      "execution_count": 10
    },
    {
      "id": "294c6c45-25ae-42b0-b1a5-7551d1d3cd1b",
      "cell_type": "markdown",
      "source": [
        "### Data Standardizing"
      ],
      "metadata": {
        "id": "294c6c45-25ae-42b0-b1a5-7551d1d3cd1b"
      }
    },
    {
      "id": "ed8a1379-9960-4890-ac70-3bda9cb6bd55",
      "cell_type": "markdown",
      "source": [
        "Standardizing the data to TitleCase and Renaming column names to unsure consistency"
      ],
      "metadata": {
        "id": "ed8a1379-9960-4890-ac70-3bda9cb6bd55"
      }
    },
    {
      "id": "6c45ebd9-fff0-4513-a9c5-a840824dc722",
      "cell_type": "code",
      "source": [
        "categorical_columns = ['MARKETING_HUB_TIER', 'SALES_HUB_TIER', 'INTEGRATION']"
      ],
      "metadata": {
        "trusted": true,
        "id": "6c45ebd9-fff0-4513-a9c5-a840824dc722"
      },
      "outputs": [],
      "execution_count": 11
    },
    {
      "id": "e744b32b-cb68-414b-99fe-a1bb0adf4f68",
      "cell_type": "code",
      "source": [
        "for col in categorical_columns:\n",
        "    metadata_integration_data[col] = metadata_integration_data[col].str.strip().str.title()"
      ],
      "metadata": {
        "trusted": true,
        "id": "e744b32b-cb68-414b-99fe-a1bb0adf4f68"
      },
      "outputs": [],
      "execution_count": 12
    },
    {
      "id": "d54fba1d-b748-482e-b04e-7d261d3e3ec0",
      "cell_type": "code",
      "source": [
        "data_mapping = {\n",
        "    'Googleads': 'Google Ads',\n",
        "    'Googlecalendar': 'Google Calendar',\n",
        "    'Facebookads': 'Facebook Ads',\n",
        "    'Lin': 'LinkedIn',\n",
        "    'Ent': 'Enterprise',\n",
        "    'Pro': 'Professional'\n",
        "}"
      ],
      "metadata": {
        "trusted": true,
        "id": "d54fba1d-b748-482e-b04e-7d261d3e3ec0"
      },
      "outputs": [],
      "execution_count": 13
    },
    {
      "id": "a9b2dd5d-0391-474d-9531-3eb24c141da1",
      "cell_type": "code",
      "source": [
        "for col in categorical_columns:\n",
        "    metadata_integration_data[col] = metadata_integration_data[col].replace(data_mapping)\n",
        "    print(f\"Distinct values in '{col}': {metadata_integration_data[col].unique()}\")"
      ],
      "metadata": {
        "trusted": true,
        "colab": {
          "base_uri": "https://localhost:8080/"
        },
        "id": "a9b2dd5d-0391-474d-9531-3eb24c141da1",
        "outputId": "bcace9d9-4f95-4bc6-c57d-1d5952f335fd"
      },
      "outputs": [
        {
          "output_type": "stream",
          "name": "stdout",
          "text": [
            "Distinct values in 'MARKETING_HUB_TIER': ['Enterprise' 'Starter' 'Professional' nan]\n",
            "Distinct values in 'SALES_HUB_TIER': ['Enterprise' 'Starter' nan 'Professional']\n",
            "Distinct values in 'INTEGRATION': ['Google Calendar' 'Facebook Ads' 'Google Ads' 'Calendly' 'Typeform'\n",
            " 'Eventbrite' 'Gmail' 'Mailchimp' 'Instagram' 'Linkedin' 'Canva' nan\n",
            " 'Zapier']\n"
          ]
        }
      ],
      "execution_count": 14
    },
    {
      "id": "cc035856-dbc9-4079-900a-1b490c7f870b",
      "cell_type": "markdown",
      "source": [
        "### Handling Missing Data"
      ],
      "metadata": {
        "id": "cc035856-dbc9-4079-900a-1b490c7f870b"
      }
    },
    {
      "id": "a925c602-77d9-4891-b3b4-6f0e08fdd360",
      "cell_type": "markdown",
      "source": [
        "Replacing missing values for Categorical Fields - 'MARKETING_HUB_TIER', 'SALES_HUB_TIER', 'INTEGRATION'"
      ],
      "metadata": {
        "id": "a925c602-77d9-4891-b3b4-6f0e08fdd360"
      }
    },
    {
      "id": "e40e9488-62a6-4950-99e3-07b8f7355529",
      "cell_type": "code",
      "source": [
        "for col in categorical_columns:\n",
        "    metadata_integration_data[col] = metadata_integration_data[col].fillna('No Data')"
      ],
      "metadata": {
        "trusted": true,
        "id": "e40e9488-62a6-4950-99e3-07b8f7355529"
      },
      "outputs": [],
      "execution_count": 15
    },
    {
      "id": "a9cc7b5a-71cb-4c2d-97fa-220d992c8c41",
      "cell_type": "markdown",
      "source": [
        "Dropping duplicate records"
      ],
      "metadata": {
        "id": "a9cc7b5a-71cb-4c2d-97fa-220d992c8c41"
      }
    },
    {
      "id": "9001249e-3ed0-4d39-90a0-bd662cfdd1b2",
      "cell_type": "code",
      "source": [
        "metadata_integration_data = metadata_integration_data.drop_duplicates()"
      ],
      "metadata": {
        "trusted": true,
        "id": "9001249e-3ed0-4d39-90a0-bd662cfdd1b2"
      },
      "outputs": [],
      "execution_count": 16
    },
    {
      "id": "0879a697-a4be-4190-91f9-96af9b1dea2e",
      "cell_type": "code",
      "source": [
        "metadata_integration_data.isnull().sum()"
      ],
      "metadata": {
        "trusted": true,
        "colab": {
          "base_uri": "https://localhost:8080/",
          "height": 366
        },
        "id": "0879a697-a4be-4190-91f9-96af9b1dea2e",
        "outputId": "9fd7b71b-16b3-44fa-a872-daf123de04bb"
      },
      "outputs": [
        {
          "output_type": "execute_result",
          "data": {
            "text/plain": [
              "CUSTOMER_ID                        0\n",
              "SNAPSHOT_MONTH                     0\n",
              "MARKETING_HUB_TIER                 0\n",
              "MARKETING_HUB_MRR              32027\n",
              "MARKETING_HUB_MRR_CANCELED    800326\n",
              "SALES_HUB_TIER                     0\n",
              "SALES_HUB_MRR                 606975\n",
              "SALES_HUB_MRR_CANCELED        833529\n",
              "INTEGRATION                        0\n",
              "dtype: int64"
            ],
            "text/html": [
              "<div>\n",
              "<style scoped>\n",
              "    .dataframe tbody tr th:only-of-type {\n",
              "        vertical-align: middle;\n",
              "    }\n",
              "\n",
              "    .dataframe tbody tr th {\n",
              "        vertical-align: top;\n",
              "    }\n",
              "\n",
              "    .dataframe thead th {\n",
              "        text-align: right;\n",
              "    }\n",
              "</style>\n",
              "<table border=\"1\" class=\"dataframe\">\n",
              "  <thead>\n",
              "    <tr style=\"text-align: right;\">\n",
              "      <th></th>\n",
              "      <th>0</th>\n",
              "    </tr>\n",
              "  </thead>\n",
              "  <tbody>\n",
              "    <tr>\n",
              "      <th>CUSTOMER_ID</th>\n",
              "      <td>0</td>\n",
              "    </tr>\n",
              "    <tr>\n",
              "      <th>SNAPSHOT_MONTH</th>\n",
              "      <td>0</td>\n",
              "    </tr>\n",
              "    <tr>\n",
              "      <th>MARKETING_HUB_TIER</th>\n",
              "      <td>0</td>\n",
              "    </tr>\n",
              "    <tr>\n",
              "      <th>MARKETING_HUB_MRR</th>\n",
              "      <td>32027</td>\n",
              "    </tr>\n",
              "    <tr>\n",
              "      <th>MARKETING_HUB_MRR_CANCELED</th>\n",
              "      <td>800326</td>\n",
              "    </tr>\n",
              "    <tr>\n",
              "      <th>SALES_HUB_TIER</th>\n",
              "      <td>0</td>\n",
              "    </tr>\n",
              "    <tr>\n",
              "      <th>SALES_HUB_MRR</th>\n",
              "      <td>606975</td>\n",
              "    </tr>\n",
              "    <tr>\n",
              "      <th>SALES_HUB_MRR_CANCELED</th>\n",
              "      <td>833529</td>\n",
              "    </tr>\n",
              "    <tr>\n",
              "      <th>INTEGRATION</th>\n",
              "      <td>0</td>\n",
              "    </tr>\n",
              "  </tbody>\n",
              "</table>\n",
              "</div><br><label><b>dtype:</b> int64</label>"
            ]
          },
          "metadata": {},
          "execution_count": 17
        }
      ],
      "execution_count": 17
    },
    {
      "id": "8626e371-4d28-445f-afea-7e9655dafd9a",
      "cell_type": "code",
      "source": [
        "metadata_integration_data.info()"
      ],
      "metadata": {
        "trusted": true,
        "colab": {
          "base_uri": "https://localhost:8080/"
        },
        "id": "8626e371-4d28-445f-afea-7e9655dafd9a",
        "outputId": "c7f84e8b-a670-4cbe-f805-7712140d5fa6"
      },
      "outputs": [
        {
          "output_type": "stream",
          "name": "stdout",
          "text": [
            "<class 'pandas.core.frame.DataFrame'>\n",
            "RangeIndex: 846900 entries, 0 to 846899\n",
            "Data columns (total 9 columns):\n",
            " #   Column                      Non-Null Count   Dtype  \n",
            "---  ------                      --------------   -----  \n",
            " 0   CUSTOMER_ID                 846900 non-null  object \n",
            " 1   SNAPSHOT_MONTH              846900 non-null  object \n",
            " 2   MARKETING_HUB_TIER          846900 non-null  object \n",
            " 3   MARKETING_HUB_MRR           814873 non-null  float64\n",
            " 4   MARKETING_HUB_MRR_CANCELED  46574 non-null   float64\n",
            " 5   SALES_HUB_TIER              846900 non-null  object \n",
            " 6   SALES_HUB_MRR               239925 non-null  float64\n",
            " 7   SALES_HUB_MRR_CANCELED      13371 non-null   float64\n",
            " 8   INTEGRATION                 846900 non-null  object \n",
            "dtypes: float64(4), object(5)\n",
            "memory usage: 58.2+ MB\n"
          ]
        }
      ],
      "execution_count": 18
    },
    {
      "id": "e4ac8f08-4fe4-44c7-9fca-6d7811310b8c",
      "cell_type": "markdown",
      "source": [
        "# Descriptive Analysis"
      ],
      "metadata": {
        "id": "e4ac8f08-4fe4-44c7-9fca-6d7811310b8c"
      }
    },
    {
      "id": "e8001d62-3445-44ef-929f-25de4b56bb92",
      "cell_type": "markdown",
      "source": [
        "Count unique values in categorical columns"
      ],
      "metadata": {
        "id": "e8001d62-3445-44ef-929f-25de4b56bb92"
      }
    },
    {
      "id": "10a727a8-fdb5-44ef-a863-c4522a397f16",
      "cell_type": "code",
      "source": [
        "metadata_integration_data_filtered = metadata_integration_data[metadata_integration_data['INTEGRATION'] != 'No Data']\n",
        "\n",
        "for col in categorical_columns:\n",
        "    print(f\"\\nUnique values in {col}: {metadata_integration_data[col].nunique()-1}\")\n",
        "    print(f\"Distinct values in '{col}': {metadata_integration_data[col].unique()}\")"
      ],
      "metadata": {
        "trusted": true,
        "colab": {
          "base_uri": "https://localhost:8080/"
        },
        "id": "10a727a8-fdb5-44ef-a863-c4522a397f16",
        "outputId": "d7e06997-3be3-48e4-ef1d-b7f41da1de4e"
      },
      "outputs": [
        {
          "output_type": "stream",
          "name": "stdout",
          "text": [
            "\n",
            "Unique values in MARKETING_HUB_TIER: 3\n",
            "Distinct values in 'MARKETING_HUB_TIER': ['Enterprise' 'Starter' 'Professional' 'No Data']\n",
            "\n",
            "Unique values in SALES_HUB_TIER: 3\n",
            "Distinct values in 'SALES_HUB_TIER': ['Enterprise' 'Starter' 'No Data' 'Professional']\n",
            "\n",
            "Unique values in INTEGRATION: 12\n",
            "Distinct values in 'INTEGRATION': ['Google Calendar' 'Facebook Ads' 'Google Ads' 'Calendly' 'Typeform'\n",
            " 'Eventbrite' 'Gmail' 'Mailchimp' 'Instagram' 'Linkedin' 'Canva' 'No Data'\n",
            " 'Zapier']\n"
          ]
        }
      ],
      "execution_count": 78
    },
    {
      "id": "8e781d36-e45f-450d-9874-20b0140634cd",
      "cell_type": "markdown",
      "source": [
        "### Customer Analysis"
      ],
      "metadata": {
        "id": "8e781d36-e45f-450d-9874-20b0140634cd"
      }
    },
    {
      "id": "636840a4-40e0-4a0c-bdd9-34577648599a",
      "cell_type": "markdown",
      "source": [
        "**Count Unique Customers - Integration**"
      ],
      "metadata": {
        "id": "636840a4-40e0-4a0c-bdd9-34577648599a"
      }
    },
    {
      "id": "05b9cf4d-52be-4018-8d51-aadd374c9683",
      "cell_type": "code",
      "source": [
        "# With Integrations (Filtered out by 'No Data')\n",
        "\n",
        "customers_with_integrations = metadata_integration_data[metadata_integration_data['INTEGRATION'] != 'No Data']\n",
        "count_customers_with_integrations = customers_with_integrations['CUSTOMER_ID'].nunique()\n",
        "customers_overall = metadata_integration_data['CUSTOMER_ID'].nunique()\n",
        "\n",
        "count_customers_without_integrations = customers_overall - count_customers_with_integrations\n",
        "\n",
        "print(f\"Total Unique Users: {customers_overall}\")\n",
        "print(f\"Users with integrations: {count_customers_with_integrations}\")\n",
        "print(f\"Users without integrations: {count_customers_without_integrations}\")"
      ],
      "metadata": {
        "trusted": true,
        "colab": {
          "base_uri": "https://localhost:8080/"
        },
        "id": "05b9cf4d-52be-4018-8d51-aadd374c9683",
        "outputId": "1bd35a0b-6834-4a5c-dd81-05e2dc0c66f3"
      },
      "outputs": [
        {
          "output_type": "stream",
          "name": "stdout",
          "text": [
            "Total Unique Users: 54797\n",
            "Users with integrations: 53567\n",
            "Users without integrations: 1230\n"
          ]
        }
      ],
      "execution_count": 100
    },
    {
      "id": "bbc9ba80-8ec2-4a0a-931f-eab065694b5f",
      "cell_type": "code",
      "source": [
        "labels = ['With Integrations', 'Without Integrations']\n",
        "sizes = [count_customers_with_integrations, count_customers_without_integrations]\n",
        "colors = ['#ff7a5aff', '#2e3e51ff']\n",
        "\n",
        "fig, ax = plt.subplots(figsize=(2.5, 2.5))\n",
        "wedges, texts, autotexts = ax.pie(\n",
        "    sizes, labels=labels, colors=colors, autopct='%1.0f%%', startangle=90,\n",
        "    wedgeprops=dict(width=0.7), pctdistance=0.75, textprops={'fontsize': 10}\n",
        ")\n",
        "\n",
        "# Set percentage text color to white\n",
        "for autotext in autotexts:\n",
        "    autotext.set_color('white')\n",
        "    autotext.set_weight('bold')\n",
        "ax.set_title(f\"User Integration Status (Total: {customers_overall})\", fontsize=14, pad=20)\n",
        "\n",
        "plt.show()"
      ],
      "metadata": {
        "trusted": true,
        "jupyter": {
          "source_hidden": true
        },
        "colab": {
          "base_uri": "https://localhost:8080/",
          "height": 272
        },
        "id": "bbc9ba80-8ec2-4a0a-931f-eab065694b5f",
        "outputId": "45a0bcc6-6467-418a-fd41-a7b66fd8dada"
      },
      "outputs": [
        {
          "output_type": "display_data",
          "data": {
            "text/plain": [
              "<Figure size 250x250 with 1 Axes>"
            ],
            "image/png": "[encoded data removed]"
          },
          "metadata": {}
        }
      ],
      "execution_count": 101
    },
    {
      "cell_type": "markdown",
      "source": [
        "**Customers by Integration**"
      ],
      "metadata": {
        "id": "iHLnx7isGp2v"
      },
      "id": "iHLnx7isGp2v"
    },
    {
      "cell_type": "code",
      "source": [
        "integration_customer_counts = metadata_integration_data_filtered.groupby('INTEGRATION')['CUSTOMER_ID'].nunique().reset_index()\n",
        "\n",
        "plt.figure(figsize=(6, 4))\n",
        "\n",
        "# Creating bar plot\n",
        "integration_customer_counts_sorted = integration_customer_counts.sort_values(by='CUSTOMER_ID')\n",
        "plt.barh(integration_customer_counts_sorted['INTEGRATION'], integration_customer_counts_sorted['CUSTOMER_ID'])\n",
        "\n",
        "plt.title('Users by Integration')\n",
        "plt.ylabel('Integration', fontsize=10)\n",
        "plt.xlabel('Number of Users', fontsize=10)\n",
        "plt.xticks(rotation=45)\n",
        "plt.show()"
      ],
      "metadata": {
        "colab": {
          "base_uri": "https://localhost:8080/",
          "height": 437
        },
        "id": "xSdJoNGeGMfu",
        "outputId": "085c8bde-79a3-4ae2-eb7f-ad4256d890ad"
      },
      "id": "xSdJoNGeGMfu",
      "execution_count": 99,
      "outputs": [
        {
          "output_type": "display_data",
          "data": {
            "text/plain": [
              "<Figure size 600x400 with 1 Axes>"
            ],
            "image/png": "[encoded data removed]"
          },
          "metadata": {}
        }
      ]
    },
    {
      "cell_type": "markdown",
      "source": [
        "**User - Integration Distribution**"
      ],
      "metadata": {
        "id": "DckQazI4Hzsd"
      },
      "id": "DckQazI4Hzsd"
    },
    {
      "cell_type": "code",
      "source": [
        "customer_integration_counts = metadata_integration_data.groupby('CUSTOMER_ID')['INTEGRATION'].nunique()\n",
        "\n",
        "plt.figure(figsize=(6, 4))\n",
        "plt.hist(customer_integration_counts, bins=range(customer_integration_counts.min(), customer_integration_counts.max() + 1),\n",
        "         color='#e67360ff', edgecolor='black')\n",
        "\n",
        "# Add titles and labels\n",
        "plt.title('Dsitrubtion of Users by Integrations')\n",
        "plt.xlabel('Integrations per User')\n",
        "plt.ylabel('Number of User')\n",
        "\n",
        "plt.tight_layout()\n",
        "plt.show()"
      ],
      "metadata": {
        "colab": {
          "base_uri": "https://localhost:8080/",
          "height": 407
        },
        "id": "pUMpE9H0Hyo0",
        "outputId": "61912396-24c5-473e-e04a-d1ddf85e74cc"
      },
      "id": "pUMpE9H0Hyo0",
      "execution_count": 105,
      "outputs": [
        {
          "output_type": "display_data",
          "data": {
            "text/plain": [
              "<Figure size 600x400 with 1 Axes>"
            ],
            "image/png": "[encoded data removed]"
          },
          "metadata": {}
        }
      ]
    },
    {
      "cell_type": "markdown",
      "source": [
        "**Customers - Hub Distribution**\n"
      ],
      "metadata": {
        "id": "Lt7uYoB8FkVu"
      },
      "id": "Lt7uYoB8FkVu"
    },
    {
      "cell_type": "code",
      "source": [
        "# Filter the dataset for customers where Hub Tier and Integration are not 'No Data'\n",
        "marketing_customers = metadata_integration_data_filtered[\n",
        "    (metadata_integration_data_filtered['MARKETING_HUB_TIER'] != 'No Data')\n",
        "]\n",
        "sales_customers = metadata_integration_data_filtered[\n",
        "    (metadata_integration_data_filtered['SALES_HUB_TIER'] != 'No Data')\n",
        "]\n",
        "\n",
        "marketing_sales_customers = metadata_integration_data_filtered[\n",
        "    (metadata_integration_data_filtered['MARKETING_HUB_TIER'] != 'No Data') &\n",
        "    (metadata_integration_data_filtered['SALES_HUB_TIER'] != 'No Data')\n",
        "]\n",
        "\n",
        "marketing_customers = marketing_customers['CUSTOMER_ID'].nunique()\n",
        "sales_customers = sales_customers['CUSTOMER_ID'].nunique()\n",
        "marketing_sales_customers = marketing_sales_customers['CUSTOMER_ID'].nunique()\n",
        "\n",
        "print(f\"Marketing Users: {marketing_customers}\")\n",
        "print(f\"\\nSales Users: {sales_customers}\")\n",
        "print(f\"\\nBoth Marketing & Sales Users: {marketing_sales_customers}\")\n"
      ],
      "metadata": {
        "colab": {
          "base_uri": "https://localhost:8080/"
        },
        "id": "OLYZ4xt0B8Jt",
        "outputId": "4967998b-fd7b-4f86-e263-b73d1c2a19cc"
      },
      "id": "OLYZ4xt0B8Jt",
      "execution_count": 107,
      "outputs": [
        {
          "output_type": "stream",
          "name": "stdout",
          "text": [
            "Marketing Users: 53033\n",
            "\n",
            "Sales Users: 17071\n",
            "\n",
            "Both Marketing & Sales Users: 16537\n"
          ]
        }
      ]
    },
    {
      "cell_type": "code",
      "source": [
        "# Venn diagram for Marketing, Sales, and Both\n",
        "fig, ax = plt.subplots(figsize=(3, 3))\n",
        "venn = venn2(subsets=(marketing_customers,sales_customers,\n",
        "                      marketing_sales_customers\n",
        "                     ),\n",
        "             set_labels=('Marketing Hub', 'Sales Hub', 'Both'),\n",
        "             ax=ax)\n",
        "\n",
        "for label in venn.set_labels:\n",
        "    label.set_fontsize(6)\n",
        "    label.set_fontweight('bold')\n",
        "\n",
        "for label in venn.subset_labels:\n",
        "    label.set_fontsize(8)\n",
        "\n",
        "ax.set_title(\"Users with Marketing Hub, Sales Hub and Both\", fontsize=10)\n",
        "plt.show()"
      ],
      "metadata": {
        "colab": {
          "base_uri": "https://localhost:8080/",
          "height": 241
        },
        "id": "0aBuYIq4EWkA",
        "outputId": "52e6e6da-9a63-4cbc-e392-1d4c020e707a"
      },
      "id": "0aBuYIq4EWkA",
      "execution_count": 108,
      "outputs": [
        {
          "output_type": "display_data",
          "data": {
            "text/plain": [
              "<Figure size 300x300 with 1 Axes>"
            ],
            "image/png": "[encoded data removed]"
          },
          "metadata": {}
        }
      ]
    },
    {
      "cell_type": "code",
      "source": [
        "import numpy as np\n",
        "\n",
        "# Assign 'Product' column based on conditions\n",
        "metadata_integration_data_filtered['Product'] = np.select(\n",
        "    [\n",
        "        (metadata_integration_data_filtered['MARKETING_HUB_TIER'] != 'No Data') & (metadata_integration_data_filtered['SALES_HUB_TIER'] != 'No Data'),\n",
        "        (metadata_integration_data_filtered['MARKETING_HUB_TIER'] != 'No Data'),\n",
        "        (metadata_integration_data_filtered['SALES_HUB_TIER'] != 'No Data')\n",
        "    ],\n",
        "    ['Marketing & Sales', 'Marketing', 'Sales'],\n",
        "    default='No Data'\n",
        ")\n",
        "\n",
        "# Get the unique count of customers per 'Product'\n",
        "customer_count_per_product = metadata_integration_data_filtered.groupby('Product')['CUSTOMER_ID'].nunique()\n",
        "\n",
        "# Display the customer counts\n",
        "print(customer_count_per_product)\n",
        "print(metadata_integration_data_filtered['Product'].value_counts())\n"
      ],
      "metadata": {
        "colab": {
          "base_uri": "https://localhost:8080/"
        },
        "id": "HQB7lJMlMciI",
        "outputId": "da3c698c-6b8c-46ac-f5e2-e5cf5f39c07a"
      },
      "id": "HQB7lJMlMciI",
      "execution_count": 120,
      "outputs": [
        {
          "output_type": "stream",
          "name": "stderr",
          "text": [
            "<ipython-input-120-1790e5eeed1b>:4: SettingWithCopyWarning: \n",
            "A value is trying to be set on a copy of a slice from a DataFrame.\n",
            "Try using .loc[row_indexer,col_indexer] = value instead\n",
            "\n",
            "See the caveats in the documentation: https://pandas.pydata.org/pandas-docs/stable/user_guide/indexing.html#returning-a-view-versus-a-copy\n",
            "  metadata_integration_data_filtered['Product'] = np.select(\n"
          ]
        },
        {
          "output_type": "stream",
          "name": "stdout",
          "text": [
            "Product\n",
            "Marketing            43712\n",
            "Marketing & Sales    16537\n",
            "Sales                 3249\n",
            "Name: CUSTOMER_ID, dtype: int64\n",
            "Product\n",
            "Marketing            601249\n",
            "Marketing & Sales    206080\n",
            "Sales                 31687\n",
            "Name: count, dtype: int64\n"
          ]
        }
      ]
    },
    {
      "id": "550794e4-a129-4fcb-92cc-1e8fea777790",
      "cell_type": "markdown",
      "source": [
        "**Descriptive Statistics of MRR and Cancellation**"
      ],
      "metadata": {
        "id": "550794e4-a129-4fcb-92cc-1e8fea777790"
      }
    },
    {
      "id": "df1f907c-78a3-4886-a1c1-39e7d16fb24e",
      "cell_type": "code",
      "source": [
        "print(\"Descriptive Statistics:\")\n",
        "print(metadata_integration_data.describe().T)"
      ],
      "metadata": {
        "trusted": true,
        "colab": {
          "base_uri": "https://localhost:8080/"
        },
        "id": "df1f907c-78a3-4886-a1c1-39e7d16fb24e",
        "outputId": "748702a5-9963-46d9-841c-f3f3edf4e159"
      },
      "outputs": [
        {
          "output_type": "stream",
          "name": "stdout",
          "text": [
            "Descriptive Statistics:\n",
            "                               count        mean         std    min     25%      50%      75%      max\n",
            "MARKETING_HUB_MRR           814873.0  318.819880  369.529379   1.00  15.320  292.190   395.38  3345.21\n",
            "MARKETING_HUB_MRR_CANCELED   46574.0  247.623371  325.423645   1.00  11.210   63.035   361.47  2612.12\n",
            "SALES_HUB_MRR               239925.0  528.994148  598.121749 -17.55  14.450  282.660  1056.34  3051.00\n",
            "SALES_HUB_MRR_CANCELED       13371.0  440.512222  555.413229   1.00  10.685  242.430   724.99  2587.58\n"
          ]
        }
      ],
      "execution_count": 56
    },
    {
      "id": "8ad2f050-1afb-4602-b310-fbe8d692353f",
      "cell_type": "markdown",
      "source": [
        "2. Unique Counts"
      ],
      "metadata": {
        "id": "8ad2f050-1afb-4602-b310-fbe8d692353f"
      }
    },
    {
      "id": "e0bd6a5a-3731-42f7-a5d3-7ce93cea29b4",
      "cell_type": "markdown",
      "source": [
        "4. Cancellation Rates"
      ],
      "metadata": {
        "id": "e0bd6a5a-3731-42f7-a5d3-7ce93cea29b4"
      }
    },
    {
      "id": "9bc3a93c-48a3-461d-85da-f4c4b8da11e3",
      "cell_type": "code",
      "source": [
        "marketing_cancellation_rate = metadata_integration_data['MARKETING_HUB_MRR_CANCELED'].sum() / metadata_integration_data['MARKETING_HUB_MRR'].sum()\n",
        "print(f\"Marketing Hub Cancellation Rate: {marketing_cancellation_rate:.2%}\")\n",
        "\n",
        "sales_cancellation_rate = metadata_integration_data['SALES_HUB_MRR_CANCELED'].sum() / metadata_integration_data['SALES_HUB_MRR'].sum()\n",
        "print(f\"Sales Hub Cancellation Rate: {sales_cancellation_rate:.2%}\")"
      ],
      "metadata": {
        "trusted": true,
        "id": "9bc3a93c-48a3-461d-85da-f4c4b8da11e3",
        "outputId": "bd7eb5dc-6c7d-479c-babd-7572ef1cd31f"
      },
      "outputs": [
        {
          "name": "stdout",
          "output_type": "stream",
          "text": "Marketing Hub Cancellation Rate: 4.62%\nSales Hub Cancellation Rate: 4.86%\n"
        }
      ],
      "execution_count": null
    },
    {
      "id": "99a9d74e-f7ad-4bbb-ad39-2b37e3ea6f5c",
      "cell_type": "markdown",
      "source": [
        "5. Distribution of MRR"
      ],
      "metadata": {
        "id": "99a9d74e-f7ad-4bbb-ad39-2b37e3ea6f5c"
      }
    },
    {
      "id": "2c137b1e-7a62-417c-af81-308c8a6b59bd",
      "cell_type": "code",
      "source": [
        "metadata_integration_data['MARKETING_HUB_MRR'].hist(bins=20, alpha=0.5, label='Marketing Hub MRR')\n",
        "metadata_integration_data['SALES_HUB_MRR'].hist(bins=20, alpha=0.5, label='Sales Hub MRR')\n",
        "plt.legend()\n",
        "plt.title(\"Distribution of MRR\")\n",
        "plt.xlabel(\"MRR\")\n",
        "plt.ylabel(\"Frequency\")\n",
        "plt.show()\n"
      ],
      "metadata": {
        "trusted": true,
        "id": "2c137b1e-7a62-417c-af81-308c8a6b59bd",
        "outputId": "26a18066-adbe-47b6-e880-e5df2ea134e9"
      },
      "outputs": [
        {
          "output_type": "display_data",
          "data": {
            "text/plain": "<Figure size 640x480 with 1 Axes>",
            "image/png": "[encoded data removed]"
          },
          "metadata": {}
        }
      ],
      "execution_count": null
    },
    {
      "id": "e8ff7780-c18b-4a94-ab20-52daeccf9f58",
      "cell_type": "markdown",
      "source": [
        "6. Integration Usage by Tier"
      ],
      "metadata": {
        "id": "e8ff7780-c18b-4a94-ab20-52daeccf9f58"
      }
    },
    {
      "id": "b40a1b0f-b794-4b99-84ed-7194beccc25f",
      "cell_type": "code",
      "source": [
        "print(\"Integration Usage by Marketing Hub Tier:\")\n",
        "print(metadata_integration_data.groupby('MARKETING_HUB_TIER')['INTEGRATION'].value_counts())\n",
        "\n",
        "print(\"\\nIntegration Usage by Sales Hub Tier:\")\n",
        "print(metadata_integration_data.groupby('SALES_HUB_TIER')['INTEGRATION'].value_counts())"
      ],
      "metadata": {
        "trusted": true,
        "id": "b40a1b0f-b794-4b99-84ed-7194beccc25f",
        "outputId": "dd579a6c-3434-47a4-ffc6-e36862d8950e"
      },
      "outputs": [
        {
          "name": "stdout",
          "output_type": "stream",
          "text": "Integration Usage by Marketing Hub Tier:\nMARKETING_HUB_TIER  INTEGRATION    \nEnterprise          No Data             9339\n                    Typeform            7210\n                    Canva               6269\n                    Linkedin            6102\n                    Eventbrite          5754\n                    Google Ads          5726\n                    Instagram           5622\n                    Gmail               5433\n                    Mailchimp           5246\n                    Google Calendar     5194\n                    Calendly            5016\n                    Facebook Ads        4155\n                    Zapier              3912\nNo Data             No Data             3718\n                    Typeform            1349\n                    Instagram           1229\n                    Canva               1045\n                    Linkedin            1008\n                    Eventbrite          1000\n                    Google Ads           977\n                    Gmail                970\n                    Mailchimp            956\n                    Google Calendar      850\n                    Calendly             687\n                    Facebook Ads         685\n                    Zapier               408\nProfessional        No Data            26836\n                    Typeform           21443\n                    Canva              17967\n                    Linkedin           17933\n                    Google Ads         17040\n                    Eventbrite         16507\n                    Instagram          15795\n                    Gmail              15300\n                    Google Calendar    14807\n                    Mailchimp          14676\n                    Calendly           13448\n                    Facebook Ads       10422\n                    Zapier              9867\nStarter             No Data            35979\n                    Typeform           22228\n                    Linkedin           18082\n                    Canva              17928\n                    Google Ads         16924\n                    Eventbrite         15998\n                    Instagram          15209\n                    Gmail              14800\n                    Mailchimp          14097\n                    Google Calendar    14082\n                    Calendly           12064\n                    Facebook Ads        8367\n                    Zapier              7266\nName: count, dtype: int64\n\nIntegration Usage by Sales Hub Tier:\nSALES_HUB_TIER  INTEGRATION    \nEnterprise      No Data             6796\n                Typeform            4301\n                Canva               3544\n                Linkedin            3478\n                Google Ads          3282\n                Eventbrite          3152\n                Gmail               3087\n                Instagram           3015\n                Google Calendar     2759\n                Mailchimp           2706\n                Calendly            2471\n                Facebook Ads        2001\n                Zapier              1764\nNo Data         No Data            53336\n                Typeform           38644\n                Linkedin           32082\n                Canva              32009\n                Google Ads         30163\n                Eventbrite         29239\n                Instagram          28206\n                Gmail              26797\n                Google Calendar    25974\n                Mailchimp          25865\n                Calendly           23252\n                Facebook Ads       17301\n                Zapier             15817\nProfessional    No Data             7776\n                Typeform            4661\n                Canva               3847\n                Linkedin            3828\n                Google Ads          3601\n                Eventbrite          3494\n                Instagram           3468\n                Gmail               3307\n                Mailchimp           3234\n                Google Calendar     3100\n                Calendly            2762\n                Facebook Ads        2201\n                Zapier              2012\nStarter         No Data             7964\n                Typeform            4624\n                Canva               3809\n                Linkedin            3737\n                Google Ads          3621\n                Eventbrite          3374\n                Gmail               3312\n                Mailchimp           3170\n                Instagram           3166\n                Google Calendar     3100\n                Calendly            2730\n                Facebook Ads        2126\n                Zapier              1860\nName: count, dtype: int64\n"
        }
      ],
      "execution_count": null
    },
    {
      "id": "ebc2c8df-2f63-468b-99b1-71c8fd805b42",
      "cell_type": "markdown",
      "source": [
        "7. Customer Retention Metrics"
      ],
      "metadata": {
        "id": "ebc2c8df-2f63-468b-99b1-71c8fd805b42"
      }
    },
    {
      "id": "7ed34462-bd7e-447b-bdce-688f56044488",
      "cell_type": "code",
      "source": [
        "marketing_starting_value = metadata_integration_data['MARKETING_HUB_MRR'].sum()\n",
        "marketing_lost_value = metadata_integration_data['MARKETING_HUB_MRR_CANCELED'].sum()\n",
        "marketing_customer_dollar_retention = (1 - (marketing_lost_value / marketing_starting_value)) ** 12\n",
        "print(f\"Marketing Hub: Customer Dollar Retention (C$R): {marketing_customer_dollar_retention:.2%}\")\n",
        "\n",
        "sales_starting_value = metadata_integration_data['SALES_HUB_MRR'].sum()\n",
        "sales_lost_value = metadata_integration_data['SALES_HUB_MRR_CANCELED'].sum()\n",
        "sales_customer_dollar_retention = (1 - (sales_lost_value / sales_starting_value)) ** 12\n",
        "print(f\"Sales Hub: Customer Dollar Retention (C$R): {sales_customer_dollar_retention:.2%}\")\n"
      ],
      "metadata": {
        "trusted": true,
        "id": "7ed34462-bd7e-447b-bdce-688f56044488",
        "outputId": "ec2849a1-be4f-4292-af94-e8c7f6a43b12"
      },
      "outputs": [
        {
          "name": "stdout",
          "output_type": "stream",
          "text": "Marketing Hub: Customer Dollar Retention (C$R): 56.72%\nSales Hub: Customer Dollar Retention (C$R): 54.98%\n"
        }
      ],
      "execution_count": null
    },
    {
      "id": "fa8e22a5-da53-47b1-8928-b42173739128",
      "cell_type": "code",
      "source": [],
      "metadata": {
        "trusted": true,
        "id": "fa8e22a5-da53-47b1-8928-b42173739128"
      },
      "outputs": [],
      "execution_count": null
    },
    {
      "id": "0864707d-d029-4327-bbc8-a3d69f346eef",
      "cell_type": "code",
      "source": [
        "metadata_integration_data['SNAPSHOT_MONTH'] = pd.to_datetime(metadata_integration_data['SNAPSHOT_MONTH'])\n",
        "monthly_mrr = metadata_integration_data.groupby('SNAPSHOT_MONTH')['MARKETING_HUB_MRR'].sum()\n",
        "print(\"Monthly MRR Trends:\")\n",
        "print(monthly_mrr)"
      ],
      "metadata": {
        "trusted": true,
        "id": "0864707d-d029-4327-bbc8-a3d69f346eef",
        "outputId": "e674e2a0-2e85-49ef-aa98-7de3f03bf84b"
      },
      "outputs": [
        {
          "ename": "<class 'ValueError'>",
          "evalue": "time data \"No Data\" doesn't match format \"%Y-%m\", at position 6. You might want to try:\n    - passing `format` if your strings have a consistent format;\n    - passing `format='ISO8601'` if your strings are all ISO8601 but not necessarily in exactly the same format;\n    - passing `format='mixed'`, and the format will be inferred for each element individually. You might want to use `dayfirst` alongside this.",
          "traceback": [
            "\u001b[0;31m---------------------------------------------------------------------------\u001b[0m",
            "\u001b[0;31mValueError\u001b[0m                                Traceback (most recent call last)",
            "Cell \u001b[0;32mIn[111], line 1\u001b[0m\n\u001b[0;32m----> 1\u001b[0m metadata_integration_data[\u001b[38;5;124m'\u001b[39m\u001b[38;5;124mSNAPSHOT_MONTH\u001b[39m\u001b[38;5;124m'\u001b[39m] \u001b[38;5;241m=\u001b[39m \u001b[43mpd\u001b[49m\u001b[38;5;241;43m.\u001b[39;49m\u001b[43mto_datetime\u001b[49m\u001b[43m(\u001b[49m\u001b[43mmetadata_integration_data\u001b[49m\u001b[43m[\u001b[49m\u001b[38;5;124;43m'\u001b[39;49m\u001b[38;5;124;43mSNAPSHOT_MONTH\u001b[39;49m\u001b[38;5;124;43m'\u001b[39;49m\u001b[43m]\u001b[49m\u001b[43m)\u001b[49m\n\u001b[1;32m      2\u001b[0m monthly_mrr \u001b[38;5;241m=\u001b[39m metadata_integration_data\u001b[38;5;241m.\u001b[39mgroupby(\u001b[38;5;124m'\u001b[39m\u001b[38;5;124mSNAPSHOT_MONTH\u001b[39m\u001b[38;5;124m'\u001b[39m)[\u001b[38;5;124m'\u001b[39m\u001b[38;5;124mMARKETING_HUB_MRR\u001b[39m\u001b[38;5;124m'\u001b[39m]\u001b[38;5;241m.\u001b[39msum()\n\u001b[1;32m      3\u001b[0m \u001b[38;5;28mprint\u001b[39m(\u001b[38;5;124m\"\u001b[39m\u001b[38;5;124mMonthly MRR Trends:\u001b[39m\u001b[38;5;124m\"\u001b[39m)\n",
            "File \u001b[0;32m/lib/python3.12/site-packages/pandas/core/tools/datetimes.py:1063\u001b[0m, in \u001b[0;36mto_datetime\u001b[0;34m(arg, errors, dayfirst, yearfirst, utc, format, exact, unit, infer_datetime_format, origin, cache)\u001b[0m\n\u001b[1;32m   1061\u001b[0m             result \u001b[38;5;241m=\u001b[39m arg\u001b[38;5;241m.\u001b[39mtz_localize(\u001b[38;5;124m\"\u001b[39m\u001b[38;5;124mutc\u001b[39m\u001b[38;5;124m\"\u001b[39m)\n\u001b[1;32m   1062\u001b[0m \u001b[38;5;28;01melif\u001b[39;00m \u001b[38;5;28misinstance\u001b[39m(arg, ABCSeries):\n\u001b[0;32m-> 1063\u001b[0m     cache_array \u001b[38;5;241m=\u001b[39m \u001b[43m_maybe_cache\u001b[49m\u001b[43m(\u001b[49m\u001b[43marg\u001b[49m\u001b[43m,\u001b[49m\u001b[43m \u001b[49m\u001b[38;5;28;43mformat\u001b[39;49m\u001b[43m,\u001b[49m\u001b[43m \u001b[49m\u001b[43mcache\u001b[49m\u001b[43m,\u001b[49m\u001b[43m \u001b[49m\u001b[43mconvert_listlike\u001b[49m\u001b[43m)\u001b[49m\n\u001b[1;32m   1064\u001b[0m     \u001b[38;5;28;01mif\u001b[39;00m \u001b[38;5;129;01mnot\u001b[39;00m cache_array\u001b[38;5;241m.\u001b[39mempty:\n\u001b[1;32m   1065\u001b[0m         result \u001b[38;5;241m=\u001b[39m arg\u001b[38;5;241m.\u001b[39mmap(cache_array)\n",
            "File \u001b[0;32m/lib/python3.12/site-packages/pandas/core/tools/datetimes.py:247\u001b[0m, in \u001b[0;36m_maybe_cache\u001b[0;34m(arg, format, cache, convert_listlike)\u001b[0m\n\u001b[1;32m    245\u001b[0m unique_dates \u001b[38;5;241m=\u001b[39m unique(arg)\n\u001b[1;32m    246\u001b[0m \u001b[38;5;28;01mif\u001b[39;00m \u001b[38;5;28mlen\u001b[39m(unique_dates) \u001b[38;5;241m<\u001b[39m \u001b[38;5;28mlen\u001b[39m(arg):\n\u001b[0;32m--> 247\u001b[0m     cache_dates \u001b[38;5;241m=\u001b[39m \u001b[43mconvert_listlike\u001b[49m\u001b[43m(\u001b[49m\u001b[43munique_dates\u001b[49m\u001b[43m,\u001b[49m\u001b[43m \u001b[49m\u001b[38;5;28;43mformat\u001b[39;49m\u001b[43m)\u001b[49m\n\u001b[1;32m    248\u001b[0m     \u001b[38;5;66;03m# GH#45319\u001b[39;00m\n\u001b[1;32m    249\u001b[0m     \u001b[38;5;28;01mtry\u001b[39;00m:\n",
            "File \u001b[0;32m/lib/python3.12/site-packages/pandas/core/tools/datetimes.py:433\u001b[0m, in \u001b[0;36m_convert_listlike_datetimes\u001b[0;34m(arg, format, name, utc, unit, errors, dayfirst, yearfirst, exact)\u001b[0m\n\u001b[1;32m    431\u001b[0m \u001b[38;5;66;03m# `format` could be inferred, or user didn't ask for mixed-format parsing.\u001b[39;00m\n\u001b[1;32m    432\u001b[0m \u001b[38;5;28;01mif\u001b[39;00m \u001b[38;5;28mformat\u001b[39m \u001b[38;5;129;01mis\u001b[39;00m \u001b[38;5;129;01mnot\u001b[39;00m \u001b[38;5;28;01mNone\u001b[39;00m \u001b[38;5;129;01mand\u001b[39;00m \u001b[38;5;28mformat\u001b[39m \u001b[38;5;241m!=\u001b[39m \u001b[38;5;124m\"\u001b[39m\u001b[38;5;124mmixed\u001b[39m\u001b[38;5;124m\"\u001b[39m:\n\u001b[0;32m--> 433\u001b[0m     \u001b[38;5;28;01mreturn\u001b[39;00m \u001b[43m_array_strptime_with_fallback\u001b[49m\u001b[43m(\u001b[49m\u001b[43marg\u001b[49m\u001b[43m,\u001b[49m\u001b[43m \u001b[49m\u001b[43mname\u001b[49m\u001b[43m,\u001b[49m\u001b[43m \u001b[49m\u001b[43mutc\u001b[49m\u001b[43m,\u001b[49m\u001b[43m \u001b[49m\u001b[38;5;28;43mformat\u001b[39;49m\u001b[43m,\u001b[49m\u001b[43m \u001b[49m\u001b[43mexact\u001b[49m\u001b[43m,\u001b[49m\u001b[43m \u001b[49m\u001b[43merrors\u001b[49m\u001b[43m)\u001b[49m\n\u001b[1;32m    435\u001b[0m result, tz_parsed \u001b[38;5;241m=\u001b[39m objects_to_datetime64(\n\u001b[1;32m    436\u001b[0m     arg,\n\u001b[1;32m    437\u001b[0m     dayfirst\u001b[38;5;241m=\u001b[39mdayfirst,\n\u001b[0;32m   (...)\u001b[0m\n\u001b[1;32m    441\u001b[0m     allow_object\u001b[38;5;241m=\u001b[39m\u001b[38;5;28;01mTrue\u001b[39;00m,\n\u001b[1;32m    442\u001b[0m )\n\u001b[1;32m    444\u001b[0m \u001b[38;5;28;01mif\u001b[39;00m tz_parsed \u001b[38;5;129;01mis\u001b[39;00m \u001b[38;5;129;01mnot\u001b[39;00m \u001b[38;5;28;01mNone\u001b[39;00m:\n\u001b[1;32m    445\u001b[0m     \u001b[38;5;66;03m# We can take a shortcut since the datetime64 numpy array\u001b[39;00m\n\u001b[1;32m    446\u001b[0m     \u001b[38;5;66;03m# is in UTC\u001b[39;00m\n",
            "File \u001b[0;32m/lib/python3.12/site-packages/pandas/core/tools/datetimes.py:467\u001b[0m, in \u001b[0;36m_array_strptime_with_fallback\u001b[0;34m(arg, name, utc, fmt, exact, errors)\u001b[0m\n\u001b[1;32m    456\u001b[0m \u001b[38;5;28;01mdef\u001b[39;00m \u001b[38;5;21m_array_strptime_with_fallback\u001b[39m(\n\u001b[1;32m    457\u001b[0m     arg,\n\u001b[1;32m    458\u001b[0m     name,\n\u001b[0;32m   (...)\u001b[0m\n\u001b[1;32m    462\u001b[0m     errors: \u001b[38;5;28mstr\u001b[39m,\n\u001b[1;32m    463\u001b[0m ) \u001b[38;5;241m-\u001b[39m\u001b[38;5;241m>\u001b[39m Index:\n\u001b[1;32m    464\u001b[0m \u001b[38;5;250m    \u001b[39m\u001b[38;5;124;03m\"\"\"\u001b[39;00m\n\u001b[1;32m    465\u001b[0m \u001b[38;5;124;03m    Call array_strptime, with fallback behavior depending on 'errors'.\u001b[39;00m\n\u001b[1;32m    466\u001b[0m \u001b[38;5;124;03m    \"\"\"\u001b[39;00m\n\u001b[0;32m--> 467\u001b[0m     result, tz_out \u001b[38;5;241m=\u001b[39m \u001b[43marray_strptime\u001b[49m\u001b[43m(\u001b[49m\u001b[43marg\u001b[49m\u001b[43m,\u001b[49m\u001b[43m \u001b[49m\u001b[43mfmt\u001b[49m\u001b[43m,\u001b[49m\u001b[43m \u001b[49m\u001b[43mexact\u001b[49m\u001b[38;5;241;43m=\u001b[39;49m\u001b[43mexact\u001b[49m\u001b[43m,\u001b[49m\u001b[43m \u001b[49m\u001b[43merrors\u001b[49m\u001b[38;5;241;43m=\u001b[39;49m\u001b[43merrors\u001b[49m\u001b[43m,\u001b[49m\u001b[43m \u001b[49m\u001b[43mutc\u001b[49m\u001b[38;5;241;43m=\u001b[39;49m\u001b[43mutc\u001b[49m\u001b[43m)\u001b[49m\n\u001b[1;32m    468\u001b[0m     \u001b[38;5;28;01mif\u001b[39;00m tz_out \u001b[38;5;129;01mis\u001b[39;00m \u001b[38;5;129;01mnot\u001b[39;00m \u001b[38;5;28;01mNone\u001b[39;00m:\n\u001b[1;32m    469\u001b[0m         unit \u001b[38;5;241m=\u001b[39m np\u001b[38;5;241m.\u001b[39mdatetime_data(result\u001b[38;5;241m.\u001b[39mdtype)[\u001b[38;5;241m0\u001b[39m]\n",
            "File \u001b[0;32mstrptime.pyx:501\u001b[0m, in \u001b[0;36mpandas._libs.tslibs.strptime.array_strptime\u001b[0;34m()\u001b[0m\n",
            "File \u001b[0;32mstrptime.pyx:451\u001b[0m, in \u001b[0;36mpandas._libs.tslibs.strptime.array_strptime\u001b[0;34m()\u001b[0m\n",
            "File \u001b[0;32mstrptime.pyx:583\u001b[0m, in \u001b[0;36mpandas._libs.tslibs.strptime._parse_with_format\u001b[0;34m()\u001b[0m\n",
            "\u001b[0;31mValueError\u001b[0m: time data \"No Data\" doesn't match format \"%Y-%m\", at position 6. You might want to try:\n    - passing `format` if your strings have a consistent format;\n    - passing `format='ISO8601'` if your strings are all ISO8601 but not necessarily in exactly the same format;\n    - passing `format='mixed'`, and the format will be inferred for each element individually. You might want to use `dayfirst` alongside this."
          ],
          "output_type": "error"
        }
      ],
      "execution_count": null
    },
    {
      "id": "e32a3d64-3789-4439-a0cc-1304c50328d6",
      "cell_type": "code",
      "source": [
        "5. Correlation Analysis"
      ],
      "metadata": {
        "trusted": true,
        "id": "e32a3d64-3789-4439-a0cc-1304c50328d6"
      },
      "outputs": [],
      "execution_count": null
    },
    {
      "id": "6eeb2fe7-4ea7-46c3-9c41-05633d0f7dba",
      "cell_type": "code",
      "source": [
        "print(\"Correlation Matrix:\")\n",
        "print(metadata_integration_data.corr())"
      ],
      "metadata": {
        "trusted": true,
        "id": "6eeb2fe7-4ea7-46c3-9c41-05633d0f7dba",
        "outputId": "2f55a99a-a7ab-4752-b189-c219ac87b6ce"
      },
      "outputs": [
        {
          "name": "stdout",
          "output_type": "stream",
          "text": "Correlation Matrix:\n"
        },
        {
          "ename": "<class 'ValueError'>",
          "evalue": "could not convert string to float: 'Enterprise'",
          "traceback": [
            "\u001b[0;31m---------------------------------------------------------------------------\u001b[0m",
            "\u001b[0;31mValueError\u001b[0m                                Traceback (most recent call last)",
            "Cell \u001b[0;32mIn[101], line 2\u001b[0m\n\u001b[1;32m      1\u001b[0m \u001b[38;5;28mprint\u001b[39m(\u001b[38;5;124m\"\u001b[39m\u001b[38;5;124mCorrelation Matrix:\u001b[39m\u001b[38;5;124m\"\u001b[39m)\n\u001b[0;32m----> 2\u001b[0m \u001b[38;5;28mprint\u001b[39m(\u001b[43mmetadata_integration_data\u001b[49m\u001b[38;5;241;43m.\u001b[39;49m\u001b[43mcorr\u001b[49m\u001b[43m(\u001b[49m\u001b[43m)\u001b[49m)\n",
            "File \u001b[0;32m/lib/python3.12/site-packages/pandas/core/frame.py:11049\u001b[0m, in \u001b[0;36mDataFrame.corr\u001b[0;34m(self, method, min_periods, numeric_only)\u001b[0m\n\u001b[1;32m  11047\u001b[0m cols \u001b[38;5;241m=\u001b[39m data\u001b[38;5;241m.\u001b[39mcolumns\n\u001b[1;32m  11048\u001b[0m idx \u001b[38;5;241m=\u001b[39m cols\u001b[38;5;241m.\u001b[39mcopy()\n\u001b[0;32m> 11049\u001b[0m mat \u001b[38;5;241m=\u001b[39m \u001b[43mdata\u001b[49m\u001b[38;5;241;43m.\u001b[39;49m\u001b[43mto_numpy\u001b[49m\u001b[43m(\u001b[49m\u001b[43mdtype\u001b[49m\u001b[38;5;241;43m=\u001b[39;49m\u001b[38;5;28;43mfloat\u001b[39;49m\u001b[43m,\u001b[49m\u001b[43m \u001b[49m\u001b[43mna_value\u001b[49m\u001b[38;5;241;43m=\u001b[39;49m\u001b[43mnp\u001b[49m\u001b[38;5;241;43m.\u001b[39;49m\u001b[43mnan\u001b[49m\u001b[43m,\u001b[49m\u001b[43m \u001b[49m\u001b[43mcopy\u001b[49m\u001b[38;5;241;43m=\u001b[39;49m\u001b[38;5;28;43;01mFalse\u001b[39;49;00m\u001b[43m)\u001b[49m\n\u001b[1;32m  11051\u001b[0m \u001b[38;5;28;01mif\u001b[39;00m method \u001b[38;5;241m==\u001b[39m \u001b[38;5;124m\"\u001b[39m\u001b[38;5;124mpearson\u001b[39m\u001b[38;5;124m\"\u001b[39m:\n\u001b[1;32m  11052\u001b[0m     correl \u001b[38;5;241m=\u001b[39m libalgos\u001b[38;5;241m.\u001b[39mnancorr(mat, minp\u001b[38;5;241m=\u001b[39mmin_periods)\n",
            "File \u001b[0;32m/lib/python3.12/site-packages/pandas/core/frame.py:1993\u001b[0m, in \u001b[0;36mDataFrame.to_numpy\u001b[0;34m(self, dtype, copy, na_value)\u001b[0m\n\u001b[1;32m   1991\u001b[0m \u001b[38;5;28;01mif\u001b[39;00m dtype \u001b[38;5;129;01mis\u001b[39;00m \u001b[38;5;129;01mnot\u001b[39;00m \u001b[38;5;28;01mNone\u001b[39;00m:\n\u001b[1;32m   1992\u001b[0m     dtype \u001b[38;5;241m=\u001b[39m np\u001b[38;5;241m.\u001b[39mdtype(dtype)\n\u001b[0;32m-> 1993\u001b[0m result \u001b[38;5;241m=\u001b[39m \u001b[38;5;28;43mself\u001b[39;49m\u001b[38;5;241;43m.\u001b[39;49m\u001b[43m_mgr\u001b[49m\u001b[38;5;241;43m.\u001b[39;49m\u001b[43mas_array\u001b[49m\u001b[43m(\u001b[49m\u001b[43mdtype\u001b[49m\u001b[38;5;241;43m=\u001b[39;49m\u001b[43mdtype\u001b[49m\u001b[43m,\u001b[49m\u001b[43m \u001b[49m\u001b[43mcopy\u001b[49m\u001b[38;5;241;43m=\u001b[39;49m\u001b[43mcopy\u001b[49m\u001b[43m,\u001b[49m\u001b[43m \u001b[49m\u001b[43mna_value\u001b[49m\u001b[38;5;241;43m=\u001b[39;49m\u001b[43mna_value\u001b[49m\u001b[43m)\u001b[49m\n\u001b[1;32m   1994\u001b[0m \u001b[38;5;28;01mif\u001b[39;00m result\u001b[38;5;241m.\u001b[39mdtype \u001b[38;5;129;01mis\u001b[39;00m \u001b[38;5;129;01mnot\u001b[39;00m dtype:\n\u001b[1;32m   1995\u001b[0m     result \u001b[38;5;241m=\u001b[39m np\u001b[38;5;241m.\u001b[39masarray(result, dtype\u001b[38;5;241m=\u001b[39mdtype)\n",
            "File \u001b[0;32m/lib/python3.12/site-packages/pandas/core/internals/managers.py:1694\u001b[0m, in \u001b[0;36mBlockManager.as_array\u001b[0;34m(self, dtype, copy, na_value)\u001b[0m\n\u001b[1;32m   1692\u001b[0m         arr\u001b[38;5;241m.\u001b[39mflags\u001b[38;5;241m.\u001b[39mwriteable \u001b[38;5;241m=\u001b[39m \u001b[38;5;28;01mFalse\u001b[39;00m\n\u001b[1;32m   1693\u001b[0m \u001b[38;5;28;01melse\u001b[39;00m:\n\u001b[0;32m-> 1694\u001b[0m     arr \u001b[38;5;241m=\u001b[39m \u001b[38;5;28;43mself\u001b[39;49m\u001b[38;5;241;43m.\u001b[39;49m\u001b[43m_interleave\u001b[49m\u001b[43m(\u001b[49m\u001b[43mdtype\u001b[49m\u001b[38;5;241;43m=\u001b[39;49m\u001b[43mdtype\u001b[49m\u001b[43m,\u001b[49m\u001b[43m \u001b[49m\u001b[43mna_value\u001b[49m\u001b[38;5;241;43m=\u001b[39;49m\u001b[43mna_value\u001b[49m\u001b[43m)\u001b[49m\n\u001b[1;32m   1695\u001b[0m     \u001b[38;5;66;03m# The underlying data was copied within _interleave, so no need\u001b[39;00m\n\u001b[1;32m   1696\u001b[0m     \u001b[38;5;66;03m# to further copy if copy=True or setting na_value\u001b[39;00m\n\u001b[1;32m   1698\u001b[0m \u001b[38;5;28;01mif\u001b[39;00m na_value \u001b[38;5;129;01mis\u001b[39;00m lib\u001b[38;5;241m.\u001b[39mno_default:\n",
            "File \u001b[0;32m/lib/python3.12/site-packages/pandas/core/internals/managers.py:1753\u001b[0m, in \u001b[0;36mBlockManager._interleave\u001b[0;34m(self, dtype, na_value)\u001b[0m\n\u001b[1;32m   1751\u001b[0m     \u001b[38;5;28;01melse\u001b[39;00m:\n\u001b[1;32m   1752\u001b[0m         arr \u001b[38;5;241m=\u001b[39m blk\u001b[38;5;241m.\u001b[39mget_values(dtype)\n\u001b[0;32m-> 1753\u001b[0m     \u001b[43mresult\u001b[49m\u001b[43m[\u001b[49m\u001b[43mrl\u001b[49m\u001b[38;5;241;43m.\u001b[39;49m\u001b[43mindexer\u001b[49m\u001b[43m]\u001b[49m \u001b[38;5;241m=\u001b[39m arr\n\u001b[1;32m   1754\u001b[0m     itemmask[rl\u001b[38;5;241m.\u001b[39mindexer] \u001b[38;5;241m=\u001b[39m \u001b[38;5;241m1\u001b[39m\n\u001b[1;32m   1756\u001b[0m \u001b[38;5;28;01mif\u001b[39;00m \u001b[38;5;129;01mnot\u001b[39;00m itemmask\u001b[38;5;241m.\u001b[39mall():\n",
            "\u001b[0;31mValueError\u001b[0m: could not convert string to float: 'Enterprise'"
          ],
          "output_type": "error"
        }
      ],
      "execution_count": null
    },
    {
      "id": "befa108f-39c8-4e96-abd6-290563e613f9",
      "cell_type": "code",
      "source": [],
      "metadata": {
        "trusted": true,
        "id": "befa108f-39c8-4e96-abd6-290563e613f9"
      },
      "outputs": [],
      "execution_count": null
    },
    {
      "id": "28139d77-be53-41a3-9e92-deb5e5ed2060",
      "cell_type": "code",
      "source": [
        "# Group by CUSTOMER_ID and SNAPSHOT_MONTH, then count the number of integrations\n",
        "integrations_per_customer = metadata_integration_data.groupby(['CUSTOMER_ID'])['INTEGRATION'].nunique().reset_index()\n",
        "integrations_per_customer.rename(columns={'INTEGRATION': 'NUM_INTEGRATIONS'}, inplace=True)\n",
        "\n",
        "# Create the histogram\n",
        "plt.figure(figsize=(10, 6))\n",
        "plt.hist(integrations_per_customer['NUM_INTEGRATIONS'], bins=range(0, integrations_per_customer['NUM_INTEGRATIONS'].max() + 2), edgecolor='black', color='#e57360ff')\n",
        "\n",
        "plt.title('Distribution of Number of Integrations Used by Customers', fontsize=14)\n",
        "plt.xlabel('Number of Integrations', fontsize=10)\n",
        "plt.ylabel('Number of Customers', fontsize=10)\n",
        "plt.show()\n"
      ],
      "metadata": {
        "trusted": true,
        "id": "28139d77-be53-41a3-9e92-deb5e5ed2060",
        "outputId": "aa7794bc-ef57-4cd2-d9e8-f7430bd9e0bc"
      },
      "outputs": [
        {
          "output_type": "display_data",
          "data": {
            "text/plain": "<Figure size 1000x600 with 1 Axes>",
            "image/png": "[encoded data removed]"
          },
          "metadata": {}
        }
      ],
      "execution_count": null
    },
    {
      "id": "7fc89667-2a55-43a0-844a-91fc998858cb",
      "cell_type": "code",
      "source": [
        "total_customers = integrations_per_customer['CUSTOMER_ID'].nunique()\n",
        "print(f\"Total number of customers: {total_customers}\")\n",
        "\n",
        "# Define the bins\n",
        "bin_1_2 = integrations_per_customer[(integrations_per_customer['NUM_INTEGRATIONS'] >= 1) & (integrations_per_customer['NUM_INTEGRATIONS'] <= 2)]\n",
        "bin_3_5 = integrations_per_customer[(integrations_per_customer['NUM_INTEGRATIONS'] >= 3) & (integrations_per_customer['NUM_INTEGRATIONS'] <= 5)]\n",
        "bin_6_plus = integrations_per_customer[integrations_per_customer['NUM_INTEGRATIONS'] >= 6]\n",
        "\n",
        "# Count the number of customers in each bin\n",
        "count_1_2 = bin_1_2['CUSTOMER_ID'].nunique()\n",
        "count_3_5 = bin_3_5['CUSTOMER_ID'].nunique()\n",
        "count_6_plus = bin_6_plus['CUSTOMER_ID'].nunique()"
      ],
      "metadata": {
        "trusted": true,
        "id": "7fc89667-2a55-43a0-844a-91fc998858cb",
        "outputId": "aa1a661f-aade-427d-a2ef-fcb718f2f569"
      },
      "outputs": [
        {
          "name": "stdout",
          "output_type": "stream",
          "text": "Total number of customers: 54797\n24.77% of customers use 1-2 integrations.\n56.77% of customers use 3-5 integrations.\n16.22% of customers use 6 or more integrations.\n"
        }
      ],
      "execution_count": null
    },
    {
      "id": "fcda8574-17c2-42b1-b396-29cf27db611a",
      "cell_type": "markdown",
      "source": [
        "# Saving Dataset"
      ],
      "metadata": {
        "id": "fcda8574-17c2-42b1-b396-29cf27db611a"
      }
    },
    {
      "id": "914c30c6-ca38-4544-9d83-60bd21f0e70e",
      "cell_type": "code",
      "source": [
        "metadata_integration_data.to_csv('final_dataset_customer_metadata_integration.csv', index=False)"
      ],
      "metadata": {
        "trusted": true,
        "id": "914c30c6-ca38-4544-9d83-60bd21f0e70e"
      },
      "outputs": [],
      "execution_count": null
    },
    {
      "id": "6ad35b22-e272-488e-ac22-5913fb7e38f6",
      "cell_type": "code",
      "source": [],
      "metadata": {
        "trusted": true,
        "id": "6ad35b22-e272-488e-ac22-5913fb7e38f6"
      },
      "outputs": [],
      "execution_count": null
    },
    {
      "id": "b61cffa6-28c7-4fb8-b2b4-cf77fb66db00",
      "cell_type": "code",
      "source": [],
      "metadata": {
        "trusted": true,
        "id": "b61cffa6-28c7-4fb8-b2b4-cf77fb66db00"
      },
      "outputs": [],
      "execution_count": null
    }
  ]
}
